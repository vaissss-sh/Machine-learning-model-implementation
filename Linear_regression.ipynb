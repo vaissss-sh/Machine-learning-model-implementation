{
 "cells": [
  {
   "cell_type": "markdown",
   "id": "3f69da57-0b5f-4a5f-acf7-d0fcc3e6e1e1",
   "metadata": {},
   "source": [
    " # Building linear regression from scratch \n",
    "\n"
   ]
  },
  {
   "cell_type": "code",
   "execution_count": 4,
   "id": "e79d674d-17a5-48fc-bd81-92a9d696569f",
   "metadata": {},
   "outputs": [],
   "source": [
    "import numpy as np"
   ]
  },
  {
   "cell_type": "code",
   "execution_count": 5,
   "id": "d2de189b-8eef-49a5-a584-0c0e576410ce",
   "metadata": {},
   "outputs": [],
   "source": [
    "class Linear_Regression():\n",
    "\n",
    "    #self is instance value\n",
    "\n",
    "    #initializing the parameters(learning rate and number of iteration \n",
    "    def __init__(self,learning_rate,no_of_iterations):\n",
    "\n",
    "        self.learning_rate=learning_rate\n",
    "        self.no_of_iterations=no_of_iterations\n",
    "\n",
    "\n",
    "    def fit(self,X,Y):\n",
    "\n",
    "        #no. of training examples(no. of data_points) \"m\" of  and number of features(independent variables)\"n\"\n",
    "        self.m, self.n=X.shape  #no. of rows and columns\n",
    "        #initializing weight and bias\n",
    "        self.w=np.zeros(self.n) #for one feature self.w=0\n",
    "        self.b=0\n",
    "        self.X=X\n",
    "        self.Y=Y\n",
    "        #implementing Gradient Descent\n",
    "        for i in range(self,no_of_iterations):\n",
    "            self.update_weights()\n",
    "        \n",
    "\n",
    "\n",
    "    def update_weights(self,):\n",
    "        Y_prediction=self.predict(self.X)\n",
    "        #calculate gradient\n",
    "        dw=-(2*(self.X.T).dot(self.Y-Y_prediction))/self.m  #self.X.T ->transpose of data ->(1,30)\n",
    "        db=-(2*np.sum(self.Y-Y_prediction))/self.m\n",
    "        # updating the weights\n",
    "        self.w=self.w-self.learning_rate*dw\n",
    "        self.b=self.b-self.learning_rate*db\n",
    "\n",
    "    def predict(self,X):\n",
    "        return X.dot(self.w)+self.b #y=wx+b\n",
    "        "
   ]
  },
  {
   "cell_type": "code",
   "execution_count": null,
   "id": "d12f296a-5d3c-4d11-a51c-205a5356a300",
   "metadata": {},
   "outputs": [],
   "source": []
  }
 ],
 "metadata": {
  "kernelspec": {
   "display_name": "Python 3 (ipykernel)",
   "language": "python",
   "name": "python3"
  },
  "language_info": {
   "codemirror_mode": {
    "name": "ipython",
    "version": 3
   },
   "file_extension": ".py",
   "mimetype": "text/x-python",
   "name": "python",
   "nbconvert_exporter": "python",
   "pygments_lexer": "ipython3",
   "version": "3.12.4"
  }
 },
 "nbformat": 4,
 "nbformat_minor": 5
}
