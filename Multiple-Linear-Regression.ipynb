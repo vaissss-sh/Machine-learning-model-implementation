{
 "cells": [
  {
   "cell_type": "code",
   "execution_count": 1,
   "id": "2e3a13ea-d6cc-49d6-be3c-8abc5f3b9425",
   "metadata": {},
   "outputs": [],
   "source": [
    "import numpy as np\n",
    "import pandas as pd"
   ]
  },
  {
   "cell_type": "code",
   "execution_count": 2,
   "id": "6ebd9cba-9d1c-4400-a8ba-bf12cae593f5",
   "metadata": {},
   "outputs": [],
   "source": [
    "class LR:\n",
    "    def __init__(self):\n",
    "        self.coef_=None\n",
    "        self.intercept_=None\n",
    "\n",
    "    def fit(self,X_train,Y_train):\n",
    "        X_train = np.insert(X_train,0,1,axis=1)\n",
    "        betas = np.linalg.inv(np.dot(X_train.T,X_train)).dot(X_train.T).dot(Y_train)\n",
    "\n",
    "        self.intercept_=betas[0]\n",
    "        self.coef_=betas[1:]\n",
    "\n",
    "    def predict(self,X_test):\n",
    "        y_pred=np.dot(X_test,self.coef_)+self.intercept_\n",
    "    "
   ]
  },
  {
   "cell_type": "code",
   "execution_count": null,
   "id": "04d90d32-937e-40d8-9841-24fd9770df88",
   "metadata": {},
   "outputs": [],
   "source": []
  }
 ],
 "metadata": {
  "kernelspec": {
   "display_name": "Python 3 (ipykernel)",
   "language": "python",
   "name": "python3"
  },
  "language_info": {
   "codemirror_mode": {
    "name": "ipython",
    "version": 3
   },
   "file_extension": ".py",
   "mimetype": "text/x-python",
   "name": "python",
   "nbconvert_exporter": "python",
   "pygments_lexer": "ipython3",
   "version": "3.12.3"
  }
 },
 "nbformat": 4,
 "nbformat_minor": 5
}
