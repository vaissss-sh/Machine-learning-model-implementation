{
 "cells": [
  {
   "cell_type": "code",
   "execution_count": 1,
   "id": "60b834c3-2b55-4021-9696-fb7958e7414c",
   "metadata": {},
   "outputs": [],
   "source": [
    "import pandas as pd\n",
    "import numpy as np"
   ]
  },
  {
   "cell_type": "code",
   "execution_count": 3,
   "id": "0f11a519-cc86-4b7e-8873-41837a0e18ac",
   "metadata": {},
   "outputs": [],
   "source": [
    "class GD:\n",
    "    def __init__(self,learning_rate,epochs):\n",
    "        self.m = None\n",
    "        self.b = None\n",
    "        self.lr = learning_rate\n",
    "        self.epochs = epochs\n",
    "\n",
    "    def fit(self,X,y):\n",
    "        for i in range(self.epochs):\n",
    "            loss_slope_b = -2*np.sum(y-self.m*X.ravel()-self.b)\n",
    "            loss_slope_m = -2*np.sum((y-self.m*X.ravel()-self.b)*X.ravel())\n",
    "\n",
    "\n",
    "            self.b = self.b-(self.lr*loss_slope_b)\n",
    "            self.m = self.m-(self.lr*loss_slope_m)\n",
    "\n",
    "        print(self.b,self.m)\n",
    "\n",
    "\n",
    "    def predict(self,X):\n",
    "        return self.m*X + self.b\n",
    "            "
   ]
  },
  {
   "cell_type": "code",
   "execution_count": null,
   "id": "fb99aa32-573d-4936-980c-0acc0b69d6aa",
   "metadata": {},
   "outputs": [],
   "source": []
  }
 ],
 "metadata": {
  "kernelspec": {
   "display_name": "Python 3 (ipykernel)",
   "language": "python",
   "name": "python3"
  },
  "language_info": {
   "codemirror_mode": {
    "name": "ipython",
    "version": 3
   },
   "file_extension": ".py",
   "mimetype": "text/x-python",
   "name": "python",
   "nbconvert_exporter": "python",
   "pygments_lexer": "ipython3",
   "version": "3.12.3"
  }
 },
 "nbformat": 4,
 "nbformat_minor": 5
}
